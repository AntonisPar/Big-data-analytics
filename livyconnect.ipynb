{
 "cells": [
  {
   "cell_type": "code",
   "execution_count": 123,
   "id": "desirable-mozambique",
   "metadata": {},
   "outputs": [],
   "source": [
    "import json, pprint, requests, textwrap, time\n",
    "host = 'http://150.140.142.92:8998'"
   ]
  },
  {
   "cell_type": "code",
   "execution_count": 124,
   "id": "pharmaceutical-western",
   "metadata": {},
   "outputs": [
    {
     "name": "stdout",
     "output_type": "stream",
     "text": [
      "Waiting... active sesssions:  0\n",
      "Good to go!\n"
     ]
    }
   ],
   "source": [
    "#get number of sessions\n",
    "headers = {'Content-Type': 'application/json'}\n",
    "r = requests.get(host+'/sessions', headers=headers)\n",
    "con_var=r.json()['total']\n",
    "print (\"Waiting... active sesssions: \", con_var)\n",
    "while con_var!=0:\n",
    "    r = requests.get(host+'/sessions', headers=headers)\n",
    "    con_var=r.json()['total']\n",
    "    print (\"Waiting... active sesssions: \", con_var)\n",
    "    time.sleep(60)\n",
    "print (\"Good to go!\")"
   ]
  },
  {
   "cell_type": "code",
   "execution_count": 125,
   "id": "effective-charger",
   "metadata": {},
   "outputs": [
    {
     "name": "stdout",
     "output_type": "stream",
     "text": [
      "{'msg': \"Session '285' not found.\"}\n"
     ]
    }
   ],
   "source": [
    "sessionid = 285\n",
    "r = requests.delete(\"http://150.140.142.92:8998/sessions/\"+str(sessionid), headers={'Content-Type': 'application/json'})\n",
    "pprint.pprint(r.json())"
   ]
  },
  {
   "cell_type": "code",
   "execution_count": 126,
   "id": "written-title",
   "metadata": {},
   "outputs": [
    {
     "data": {
      "text/plain": [
       "{'id': 298,\n",
       " 'name': 'query1',\n",
       " 'appId': None,\n",
       " 'owner': None,\n",
       " 'proxyUser': None,\n",
       " 'state': 'starting',\n",
       " 'kind': 'pyspark',\n",
       " 'appInfo': {'driverLogUrl': None, 'sparkUiUrl': None},\n",
       " 'log': ['stdout: ', '\\nstderr: ']}"
      ]
     },
     "execution_count": 126,
     "metadata": {},
     "output_type": "execute_result"
    }
   ],
   "source": [
    "data = {'kind': 'pyspark',\\\n",
    "        'name':'QueriesforLivy.py',\n",
    "        'conf': {'master':'spark://administrator-OptiPlex-390:7077'}}\n",
    "\n",
    "r = requests.post(host + '/sessions', data=json.dumps(data), headers=headers)\n",
    "r.json()"
   ]
  },
  {
   "cell_type": "code",
   "execution_count": 127,
   "id": "appreciated-paragraph",
   "metadata": {},
   "outputs": [
    {
     "data": {
      "text/plain": [
       "{'id': 298,\n",
       " 'name': 'query1',\n",
       " 'appId': None,\n",
       " 'owner': None,\n",
       " 'proxyUser': None,\n",
       " 'state': 'starting',\n",
       " 'kind': 'pyspark',\n",
       " 'appInfo': {'driverLogUrl': None, 'sparkUiUrl': None},\n",
       " 'log': ['stdout: ', '\\nstderr: ']}"
      ]
     },
     "execution_count": 127,
     "metadata": {},
     "output_type": "execute_result"
    }
   ],
   "source": [
    "session_url = host + r.headers['location']\n",
    "r = requests.get(session_url, headers=headers)\n",
    "r.json()"
   ]
  },
  {
   "cell_type": "code",
   "execution_count": 128,
   "id": "reasonable-frequency",
   "metadata": {},
   "outputs": [
    {
     "name": "stdout",
     "output_type": "stream",
     "text": [
      "Job is starting\n",
      "Job is idle\n",
      "Good to go!\n"
     ]
    }
   ],
   "source": [
    "#show session state, repeat until idle to proceed with result extraction\n",
    "state_url = session_url + '/state'\n",
    "con_var=\"..\"\n",
    "while con_var!=\"idle\":\n",
    "    r = requests.get(state_url, headers=headers)\n",
    "    con_var = r.json()['state']\n",
    "    print(\"Job is %s\" % r.json()['state'])\n",
    "    time.sleep(10)\n",
    "print (\"Good to go!\")"
   ]
  },
  {
   "cell_type": "code",
   "execution_count": 129,
   "id": "above-knitting",
   "metadata": {},
   "outputs": [],
   "source": [
    "#send some python statements for execution\n",
    "codefile = open('query1.py', 'r')\n",
    "code = codefile.read()\n",
    "codefile.close()\n",
    "data = {\n",
    "    'kind': 'pyspark',\n",
    "    'code': textwrap.dedent(code)\n",
    "}\n",
    "\n",
    "statement_url = session_url+'/statements'\n",
    "r = requests.post(statement_url, data=json.dumps(data), headers=headers)"
   ]
  },
  {
   "cell_type": "code",
   "execution_count": 130,
   "id": "constant-musical",
   "metadata": {},
   "outputs": [
    {
     "name": "stdout",
     "output_type": "stream",
     "text": [
      "http://150.140.142.92:8998/sessions/298/statements\n",
      "Total Time 0 ms\n"
     ]
    }
   ],
   "source": [
    "#get stats from the latest statement in the session\n",
    "statements_url = session_url + '/statements'\n",
    "print(statements_url)\n",
    "r = requests.get(statements_url, headers=headers)\n",
    "slist = r.json()\n",
    "last_statement = slist['statements'][slist['total_statements']-1]\n",
    "if last_statement['progress']==1:\n",
    "    print (\"Job completed\")\n",
    "\n",
    "print(\"Total Time %s ms\" % (last_statement['completed'] - last_statement['started']))"
   ]
  },
  {
   "cell_type": "code",
   "execution_count": 122,
   "id": "automotive-yesterday",
   "metadata": {},
   "outputs": [
    {
     "name": "stdout",
     "output_type": "stream",
     "text": [
      "{'msg': 'deleted'}\n"
     ]
    }
   ],
   "source": [
    "r = requests.delete(session_url, headers=headers)\n",
    "pprint.pprint(r.json())"
   ]
  },
  {
   "cell_type": "code",
   "execution_count": null,
   "id": "silent-duplicate",
   "metadata": {},
   "outputs": [],
   "source": []
  }
 ],
 "metadata": {
  "kernelspec": {
   "display_name": "Python 3",
   "language": "python",
   "name": "python3"
  },
  "language_info": {
   "codemirror_mode": {
    "name": "ipython",
    "version": 3
   },
   "file_extension": ".py",
   "mimetype": "text/x-python",
   "name": "python",
   "nbconvert_exporter": "python",
   "pygments_lexer": "ipython3",
   "version": "3.8.5"
  }
 },
 "nbformat": 4,
 "nbformat_minor": 5
}
