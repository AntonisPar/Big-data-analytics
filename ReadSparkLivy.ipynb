{
 "cells": [
  {
   "cell_type": "code",
   "execution_count": 13,
   "id": "hungry-accreditation",
   "metadata": {},
   "outputs": [],
   "source": [
    "import json, pprint, requests, textwrap, time\n",
    "host = 'http://150.140.142.92:8998'"
   ]
  },
  {
   "cell_type": "code",
   "execution_count": null,
   "id": "phantom-holmes",
   "metadata": {},
   "outputs": [
    {
     "name": "stdout",
     "output_type": "stream",
     "text": [
      "Waiting... active sesssions:  1\n",
      "Waiting... active sesssions:  1\n"
     ]
    }
   ],
   "source": [
    "#get number of sessions\n",
    "headers = {'Content-Type': 'application/json'}\n",
    "r = requests.get(host+'/sessions', headers=headers)\n",
    "con_var=r.json()['total']\n",
    "print (\"Waiting... active sesssions: \", con_var)\n",
    "while con_var!=0:\n",
    "    r = requests.get(host+'/sessions', headers=headers)\n",
    "    con_var=r.json()['total']\n",
    "    print (\"Waiting... active sesssions: \", con_var)\n",
    "    time.sleep(60)\n",
    "print (\"Good to go!\")"
   ]
  },
  {
   "cell_type": "code",
   "execution_count": null,
   "id": "congressional-radical",
   "metadata": {},
   "outputs": [],
   "source": [
    "#create new session - DON'T DO THIS IF THERE ARE OTHER ACTIVE SESSIONS!\n",
    "data = {'kind': 'pyspark',\\\n",
    "        'name':'bbjob' #,\n",
    "        'conf':{\n",
    "            'master':'spark://localhost:7077'}\\\n",
    "       }#, 'heartbeatTimeoutInSecond':240}\n",
    "\n",
    "r = requests.post(host + '/sessions', data=json.dumps(data), headers=headers)\n",
    "r.json()"
   ]
  },
  {
   "cell_type": "code",
   "execution_count": 51,
   "id": "developing-stone",
   "metadata": {},
   "outputs": [
    {
     "data": {
      "text/plain": [
       "{'id': 18,\n",
       " 'name': 'bbjob',\n",
       " 'appId': None,\n",
       " 'owner': None,\n",
       " 'proxyUser': None,\n",
       " 'state': 'starting',\n",
       " 'kind': 'pyspark',\n",
       " 'appInfo': {'driverLogUrl': None, 'sparkUiUrl': None},\n",
       " 'log': ['stdout: ',\n",
       "  '\\nstderr: ',\n",
       "  '21/06/02 17:32:45 WARN Utils: Your hostname, administrator-OptiPlex-390 resolves to a loopback address: 127.0.1.1; using 150.140.142.92 instead (on interface enp4s0)',\n",
       "  '21/06/02 17:32:45 WARN Utils: Set SPARK_LOCAL_IP if you need to bind to another address',\n",
       "  '21/06/02 17:32:46 WARN NativeCodeLoader: Unable to load native-hadoop library for your platform... using builtin-java classes where applicable',\n",
       "  'log4j:WARN No appenders could be found for logger (io.netty.util.internal.logging.InternalLoggerFactory).',\n",
       "  'log4j:WARN Please initialize the log4j system properly.',\n",
       "  'log4j:WARN See http://logging.apache.org/log4j/1.2/faq.html#noconfig for more info.']}"
      ]
     },
     "execution_count": 51,
     "metadata": {},
     "output_type": "execute_result"
    }
   ],
   "source": [
    "#get session information\n",
    "session_url = host + r.headers['location']\n",
    "r = requests.get(session_url, headers=headers)\n",
    "r.json()\n"
   ]
  },
  {
   "cell_type": "code",
   "execution_count": 47,
   "id": "public-nicholas",
   "metadata": {},
   "outputs": [
    {
     "name": "stdout",
     "output_type": "stream",
     "text": [
      "Job is idle\n"
     ]
    }
   ],
   "source": [
    "#show session state, repeat until idle to proceed with code submission\n",
    "state_url = session_url + '/state'\n",
    "con_var=\"..\"\n",
    "while con_var!=\"idle\":\n",
    "    r = requests.get(state_url, headers=headers)\n",
    "    con_var = r.json()['state']\n",
    "    print(\"Job is %s\" % r.json()['state'])\n",
    "    time.sleep(10)\n",
    "print (\"Good to go!\")"
   ]
  },
  {
   "cell_type": "code",
   "execution_count": 48,
   "id": "impossible-fancy",
   "metadata": {},
   "outputs": [],
   "source": [
    "#send some python statements for execution\n",
    "codefile = open('test.py', 'r')\n",
    "code = codefile.read()\n",
    "codefile.close()\n",
    "data = {\n",
    "    'kind': 'pyspark',\n",
    "    'code': textwrap.dedent(code)\n",
    "}\n",
    "\n",
    "statement_url = session_url+'/statements'\n",
    "r = requests.post(statement_url, data=json.dumps(data), headers=headers)"
   ]
  },
  {
   "cell_type": "code",
   "execution_count": 19,
   "id": "silent-satisfaction",
   "metadata": {},
   "outputs": [
    {
     "name": "stdout",
     "output_type": "stream",
     "text": [
      "Job is idle\n"
     ]
    }
   ],
   "source": [
    "#show session state, repeat until idle to proceed with result extraction\n",
    "state_url = session_url + '/state'\n",
    "con_var=\"..\"\n",
    "while con_var!=\"idle\":\n",
    "    r = requests.get(state_url, headers=headers)\n",
    "    con_var = r.json()['state']\n",
    "    print(\"Job is %s\" % r.json()['state'])\n",
    "    time.sleep(10)\n",
    "print (\"Good to go!\")"
   ]
  },
  {
   "cell_type": "code",
   "execution_count": 20,
   "id": "educational-queen",
   "metadata": {},
   "outputs": [
    {
     "name": "stdout",
     "output_type": "stream",
     "text": [
      "http://150.140.142.92:8998/sessions/5/statements\n",
      "Job completed\n",
      "Total Time 6231 ms\n"
     ]
    }
   ],
   "source": [
    "#get stats from the latest statement in the session\n",
    "statements_url = session_url + '/statements'\n",
    "print(statements_url)\n",
    "r = requests.get(statements_url, headers=headers)\n",
    "slist = r.json()\n",
    "last_statement = slist['statements'][slist['total_statements']-1]\n",
    "if last_statement['progress']==1:\n",
    "    print (\"Job completed\")\n",
    "\n",
    "print(\"Total Time %s ms\" % (last_statement['completed'] - last_statement['started']))"
   ]
  },
  {
   "cell_type": "code",
   "execution_count": 21,
   "id": "fifty-production",
   "metadata": {},
   "outputs": [
    {
     "name": "stdout",
     "output_type": "stream",
     "text": [
      "Lisa Gardner\n"
     ]
    }
   ],
   "source": [
    "#get last statement output\n",
    "output = last_statement['output']\n",
    "if output['status']==\"error\":\n",
    "    pprint.pprint(output['traceback'])\n",
    "else:\n",
    "    fres = output['data']['text/plain'].replace(\"'\",\"\")\n",
    "    #pprint.pprint(output['data']['text/plain'])\n",
    "    fres = json.loads(fres)\n",
    "print(fres[0]['author'])"
   ]
  },
  {
   "cell_type": "code",
   "execution_count": 22,
   "id": "divided-third",
   "metadata": {},
   "outputs": [
    {
     "name": "stdout",
     "output_type": "stream",
     "text": [
      "{'msg': 'deleted'}\n"
     ]
    }
   ],
   "source": [
    "#close the session\n",
    "r = requests.delete(session_url, headers=headers)\n",
    "pprint.pprint(r.json())"
   ]
  },
  {
   "cell_type": "code",
   "execution_count": 23,
   "id": "incoming-printer",
   "metadata": {},
   "outputs": [
    {
     "name": "stdout",
     "output_type": "stream",
     "text": [
      "{'msg': 'deleted'}\n"
     ]
    }
   ],
   "source": [
    "#close an arbitrary session\n",
    "sessionid = 54\n",
    "r = requests.delete(\"http://150.140.142.92:8998/sessions/\"+str(sessionid), headers={'Content-Type': 'application/json'})\n",
    "pprint.pprint(r.json())"
   ]
  },
  {
   "cell_type": "code",
   "execution_count": null,
   "id": "friendly-tamil",
   "metadata": {},
   "outputs": [],
   "source": []
  }
 ],
 "metadata": {
  "kernelspec": {
   "display_name": "Python 3",
   "language": "python",
   "name": "python3"
  },
  "language_info": {
   "codemirror_mode": {
    "name": "ipython",
    "version": 3
   },
   "file_extension": ".py",
   "mimetype": "text/x-python",
   "name": "python",
   "nbconvert_exporter": "python",
   "pygments_lexer": "ipython3",
   "version": "3.8.10"
  }
 },
 "nbformat": 4,
 "nbformat_minor": 5
}
